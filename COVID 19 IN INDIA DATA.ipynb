{
 "cells": [
  {
   "cell_type": "markdown",
   "metadata": {},
   "source": [
    "# COVID 19 IN INDIA"
   ]
  },
  {
   "cell_type": "code",
   "execution_count": 46,
   "metadata": {},
   "outputs": [],
   "source": [
    "import numpy as np\n",
    "import pandas as pd\n",
    "import matplotlib.pyplot as plt\n",
    "\n"
   ]
  },
  {
   "cell_type": "code",
   "execution_count": 40,
   "metadata": {},
   "outputs": [],
   "source": [
    "covid_cases_India_df=pd.read_csv('Covid_cases_in_India[1].csv')\n",
    "covid_per_day_india_df=pd.read_excel('per_day_cases[1].xlsx')\n",
    "covid_indian_cordinates_df=pd.read_csv('Indian_Coordinates[1].csv')"
   ]
  },
  {
   "cell_type": "code",
   "execution_count": 9,
   "metadata": {},
   "outputs": [
    {
     "data": {
      "text/html": [
       "<div>\n",
       "<style scoped>\n",
       "    .dataframe tbody tr th:only-of-type {\n",
       "        vertical-align: middle;\n",
       "    }\n",
       "\n",
       "    .dataframe tbody tr th {\n",
       "        vertical-align: top;\n",
       "    }\n",
       "\n",
       "    .dataframe thead th {\n",
       "        text-align: right;\n",
       "    }\n",
       "</style>\n",
       "<table border=\"1\" class=\"dataframe\">\n",
       "  <thead>\n",
       "    <tr style=\"text-align: right;\">\n",
       "      <th></th>\n",
       "      <th>S. No.</th>\n",
       "      <th>Name of State / UT</th>\n",
       "      <th>Total Confirmed cases</th>\n",
       "      <th>Active</th>\n",
       "      <th>Cured/Discharged/Migrated</th>\n",
       "      <th>Deaths</th>\n",
       "    </tr>\n",
       "  </thead>\n",
       "  <tbody>\n",
       "    <tr>\n",
       "      <td>0</td>\n",
       "      <td>1</td>\n",
       "      <td>Andhra Pradesh</td>\n",
       "      <td>1583</td>\n",
       "      <td>1062</td>\n",
       "      <td>488</td>\n",
       "      <td>33</td>\n",
       "    </tr>\n",
       "    <tr>\n",
       "      <td>1</td>\n",
       "      <td>2</td>\n",
       "      <td>Andaman and Nicobar Islands</td>\n",
       "      <td>33</td>\n",
       "      <td>1</td>\n",
       "      <td>32</td>\n",
       "      <td>0</td>\n",
       "    </tr>\n",
       "    <tr>\n",
       "      <td>2</td>\n",
       "      <td>3</td>\n",
       "      <td>Arunachal Pradesh</td>\n",
       "      <td>1</td>\n",
       "      <td>0</td>\n",
       "      <td>1</td>\n",
       "      <td>0</td>\n",
       "    </tr>\n",
       "    <tr>\n",
       "      <td>3</td>\n",
       "      <td>4</td>\n",
       "      <td>Assam</td>\n",
       "      <td>43</td>\n",
       "      <td>9</td>\n",
       "      <td>33</td>\n",
       "      <td>1</td>\n",
       "    </tr>\n",
       "    <tr>\n",
       "      <td>4</td>\n",
       "      <td>5</td>\n",
       "      <td>Bihar</td>\n",
       "      <td>517</td>\n",
       "      <td>396</td>\n",
       "      <td>117</td>\n",
       "      <td>4</td>\n",
       "    </tr>\n",
       "  </tbody>\n",
       "</table>\n",
       "</div>"
      ],
      "text/plain": [
       "   S. No.           Name of State / UT  Total Confirmed cases  Active  \\\n",
       "0       1               Andhra Pradesh                   1583    1062   \n",
       "1       2  Andaman and Nicobar Islands                     33       1   \n",
       "2       3            Arunachal Pradesh                      1       0   \n",
       "3       4                        Assam                     43       9   \n",
       "4       5                        Bihar                    517     396   \n",
       "\n",
       "   Cured/Discharged/Migrated  Deaths  \n",
       "0                        488      33  \n",
       "1                         32       0  \n",
       "2                          1       0  \n",
       "3                         33       1  \n",
       "4                        117       4  "
      ]
     },
     "execution_count": 9,
     "metadata": {},
     "output_type": "execute_result"
    }
   ],
   "source": [
    "covid_cases_India_df.head()"
   ]
  },
  {
   "cell_type": "code",
   "execution_count": 12,
   "metadata": {},
   "outputs": [
    {
     "data": {
      "text/html": [
       "<div>\n",
       "<style scoped>\n",
       "    .dataframe tbody tr th:only-of-type {\n",
       "        vertical-align: middle;\n",
       "    }\n",
       "\n",
       "    .dataframe tbody tr th {\n",
       "        vertical-align: top;\n",
       "    }\n",
       "\n",
       "    .dataframe thead th {\n",
       "        text-align: right;\n",
       "    }\n",
       "</style>\n",
       "<table border=\"1\" class=\"dataframe\">\n",
       "  <thead>\n",
       "    <tr style=\"text-align: right;\">\n",
       "      <th></th>\n",
       "      <th>Date</th>\n",
       "      <th>Total Cases</th>\n",
       "      <th>New Cases</th>\n",
       "      <th>Days after surpassing 100 cases</th>\n",
       "    </tr>\n",
       "  </thead>\n",
       "  <tbody>\n",
       "    <tr>\n",
       "      <td>0</td>\n",
       "      <td>2020-01-30</td>\n",
       "      <td>1</td>\n",
       "      <td>1</td>\n",
       "      <td>NaN</td>\n",
       "    </tr>\n",
       "    <tr>\n",
       "      <td>1</td>\n",
       "      <td>2020-01-31</td>\n",
       "      <td>1</td>\n",
       "      <td>0</td>\n",
       "      <td>NaN</td>\n",
       "    </tr>\n",
       "    <tr>\n",
       "      <td>2</td>\n",
       "      <td>2020-02-01</td>\n",
       "      <td>1</td>\n",
       "      <td>0</td>\n",
       "      <td>NaN</td>\n",
       "    </tr>\n",
       "    <tr>\n",
       "      <td>3</td>\n",
       "      <td>2020-02-02</td>\n",
       "      <td>2</td>\n",
       "      <td>1</td>\n",
       "      <td>NaN</td>\n",
       "    </tr>\n",
       "    <tr>\n",
       "      <td>4</td>\n",
       "      <td>2020-02-03</td>\n",
       "      <td>3</td>\n",
       "      <td>1</td>\n",
       "      <td>NaN</td>\n",
       "    </tr>\n",
       "  </tbody>\n",
       "</table>\n",
       "</div>"
      ],
      "text/plain": [
       "        Date  Total Cases  New Cases  Days after surpassing 100 cases\n",
       "0 2020-01-30            1          1                              NaN\n",
       "1 2020-01-31            1          0                              NaN\n",
       "2 2020-02-01            1          0                              NaN\n",
       "3 2020-02-02            2          1                              NaN\n",
       "4 2020-02-03            3          1                              NaN"
      ]
     },
     "execution_count": 12,
     "metadata": {},
     "output_type": "execute_result"
    }
   ],
   "source": [
    "covid_per_day_india_df.head()"
   ]
  },
  {
   "cell_type": "code",
   "execution_count": 14,
   "metadata": {},
   "outputs": [
    {
     "data": {
      "text/html": [
       "<div>\n",
       "<style scoped>\n",
       "    .dataframe tbody tr th:only-of-type {\n",
       "        vertical-align: middle;\n",
       "    }\n",
       "\n",
       "    .dataframe tbody tr th {\n",
       "        vertical-align: top;\n",
       "    }\n",
       "\n",
       "    .dataframe thead th {\n",
       "        text-align: right;\n",
       "    }\n",
       "</style>\n",
       "<table border=\"1\" class=\"dataframe\">\n",
       "  <thead>\n",
       "    <tr style=\"text-align: right;\">\n",
       "      <th></th>\n",
       "      <th>Name of State / UT</th>\n",
       "      <th>Latitude</th>\n",
       "      <th>Longitude</th>\n",
       "      <th>Unnamed: 3</th>\n",
       "    </tr>\n",
       "  </thead>\n",
       "  <tbody>\n",
       "    <tr>\n",
       "      <td>0</td>\n",
       "      <td>Andaman And Nicobar</td>\n",
       "      <td>11.667026</td>\n",
       "      <td>92.735983</td>\n",
       "      <td>NaN</td>\n",
       "    </tr>\n",
       "    <tr>\n",
       "      <td>1</td>\n",
       "      <td>Andhra Pradesh</td>\n",
       "      <td>14.750429</td>\n",
       "      <td>78.570026</td>\n",
       "      <td>NaN</td>\n",
       "    </tr>\n",
       "    <tr>\n",
       "      <td>2</td>\n",
       "      <td>Arunachal Pradesh</td>\n",
       "      <td>27.100399</td>\n",
       "      <td>93.616601</td>\n",
       "      <td>NaN</td>\n",
       "    </tr>\n",
       "    <tr>\n",
       "      <td>3</td>\n",
       "      <td>Assam</td>\n",
       "      <td>26.749981</td>\n",
       "      <td>94.216667</td>\n",
       "      <td>NaN</td>\n",
       "    </tr>\n",
       "    <tr>\n",
       "      <td>4</td>\n",
       "      <td>Bihar</td>\n",
       "      <td>25.785414</td>\n",
       "      <td>87.479973</td>\n",
       "      <td>NaN</td>\n",
       "    </tr>\n",
       "  </tbody>\n",
       "</table>\n",
       "</div>"
      ],
      "text/plain": [
       "     Name of State / UT   Latitude  Longitude  Unnamed: 3\n",
       "0  Andaman And Nicobar   11.667026  92.735983         NaN\n",
       "1        Andhra Pradesh  14.750429  78.570026         NaN\n",
       "2    Arunachal Pradesh   27.100399  93.616601         NaN\n",
       "3                Assam   26.749981  94.216667         NaN\n",
       "4                Bihar   25.785414  87.479973         NaN"
      ]
     },
     "execution_count": 14,
     "metadata": {},
     "output_type": "execute_result"
    }
   ],
   "source": [
    "covid_indian_cordinates_df.head()"
   ]
  },
  {
   "cell_type": "code",
   "execution_count": 15,
   "metadata": {},
   "outputs": [
    {
     "name": "stdout",
     "output_type": "stream",
     "text": [
      "(32, 6)\n",
      "(36, 4)\n",
      "(95, 4)\n"
     ]
    }
   ],
   "source": [
    "print(covid_cases_India_df.shape)\n",
    "print(covid_indian_cordinates_df.shape)\n",
    "print(covid_per_day_india_df.shape)"
   ]
  },
  {
   "cell_type": "markdown",
   "metadata": {},
   "source": [
    "# CONFIRMED STATEWISE CASES"
   ]
  },
  {
   "cell_type": "code",
   "execution_count": 19,
   "metadata": {},
   "outputs": [
    {
     "data": {
      "text/plain": [
       "Name of State / UT\n",
       "Andaman and Nicobar Islands       33\n",
       "Andhra Pradesh                  1583\n",
       "Arunachal Pradesh                  1\n",
       "Assam                             43\n",
       "Bihar                            517\n",
       "Chandigarh                        97\n",
       "Chhattisgarh                      57\n",
       "Delhi                           4549\n",
       "Goa                                7\n",
       "Gujarat                         5428\n",
       "Haryana                          442\n",
       "Himachal Pradesh                  40\n",
       "Jammu and Kashmir                701\n",
       "Jharkhand                        115\n",
       "Karnataka                        614\n",
       "Kerala                           500\n",
       "Ladakh                            42\n",
       "Madhya Pradesh                  2837\n",
       "Maharashtra                    12974\n",
       "Manipur                            2\n",
       "Meghalaya                         12\n",
       "Mizoram                            1\n",
       "Odisha                           162\n",
       "Pondicherry                       12\n",
       "Punjab                          1102\n",
       "Rajasthan                       2886\n",
       "Tamil Nadu                      3023\n",
       "Telengana                       1082\n",
       "Tripura                           16\n",
       "Uttar Pradesh                   2645\n",
       "Uttarakhand                       60\n",
       "West Bengal                      963\n",
       "Name: Total Confirmed cases, dtype: int64"
      ]
     },
     "execution_count": 19,
     "metadata": {},
     "output_type": "execute_result"
    }
   ],
   "source": [
    "confirmed=covid_cases_India_df.groupby('Name of State / UT').sum()['Total Confirmed cases']\n",
    "confirmed"
   ]
  },
  {
   "cell_type": "markdown",
   "metadata": {},
   "source": [
    "# ACTIVE STATEWISE CASES"
   ]
  },
  {
   "cell_type": "code",
   "execution_count": 47,
   "metadata": {},
   "outputs": [
    {
     "data": {
      "text/plain": [
       "Name of State / UT\n",
       "Andaman and Nicobar Islands        1\n",
       "Andhra Pradesh                  1062\n",
       "Arunachal Pradesh                  0\n",
       "Assam                              9\n",
       "Bihar                            396\n",
       "Chandigarh                        77\n",
       "Chhattisgarh                      21\n",
       "Delhi                           3123\n",
       "Goa                                0\n",
       "Gujarat                         4096\n",
       "Haryana                          192\n",
       "Himachal Pradesh                   1\n",
       "Jammu and Kashmir                406\n",
       "Jharkhand                         85\n",
       "Karnataka                        295\n",
       "Kerala                            95\n",
       "Ladakh                            25\n",
       "Madhya Pradesh                  1883\n",
       "Maharashtra                    10311\n",
       "Manipur                            0\n",
       "Meghalaya                          1\n",
       "Mizoram                            1\n",
       "Odisha                           101\n",
       "Pondicherry                        6\n",
       "Punjab                           964\n",
       "Rajasthan                       1459\n",
       "Tamil Nadu                      1614\n",
       "Telengana                        508\n",
       "Tripura                           14\n",
       "Uttar Pradesh                   1848\n",
       "Uttarakhand                       20\n",
       "West Bengal                      762\n",
       "Name: Active, dtype: int64"
      ]
     },
     "execution_count": 47,
     "metadata": {},
     "output_type": "execute_result"
    }
   ],
   "source": [
    "active=covid_cases_India_df.groupby('Name of State / UT').sum()['Active']\n",
    "active"
   ]
  },
  {
   "cell_type": "markdown",
   "metadata": {},
   "source": [
    "# TOTAL DEATH STATEWISE"
   ]
  },
  {
   "cell_type": "code",
   "execution_count": 49,
   "metadata": {},
   "outputs": [
    {
     "data": {
      "text/plain": [
       "Name of State / UT\n",
       "Andaman and Nicobar Islands      0\n",
       "Andhra Pradesh                  33\n",
       "Arunachal Pradesh                0\n",
       "Assam                            1\n",
       "Bihar                            4\n",
       "Chandigarh                       1\n",
       "Chhattisgarh                     0\n",
       "Delhi                           64\n",
       "Goa                              0\n",
       "Gujarat                        290\n",
       "Haryana                          5\n",
       "Himachal Pradesh                 2\n",
       "Jammu and Kashmir                8\n",
       "Jharkhand                        3\n",
       "Karnataka                       25\n",
       "Kerala                           4\n",
       "Ladakh                           0\n",
       "Madhya Pradesh                 156\n",
       "Maharashtra                    548\n",
       "Manipur                          0\n",
       "Meghalaya                        1\n",
       "Mizoram                          0\n",
       "Odisha                           1\n",
       "Pondicherry                      0\n",
       "Punjab                          21\n",
       "Rajasthan                       71\n",
       "Tamil Nadu                      30\n",
       "Telengana                       29\n",
       "Tripura                          0\n",
       "Uttar Pradesh                   43\n",
       "Uttarakhand                      1\n",
       "West Bengal                     50\n",
       "Name: Deaths, dtype: int64"
      ]
     },
     "execution_count": 49,
     "metadata": {},
     "output_type": "execute_result"
    }
   ],
   "source": [
    "deaths=covid_cases_India_df.groupby('Name of State / UT').sum()['Deaths']\n",
    "deaths"
   ]
  },
  {
   "cell_type": "markdown",
   "metadata": {},
   "source": [
    "# TOTAL RECOVERED CASES"
   ]
  },
  {
   "cell_type": "code",
   "execution_count": 51,
   "metadata": {},
   "outputs": [
    {
     "data": {
      "text/plain": [
       "Name of State / UT\n",
       "Andaman and Nicobar Islands      32\n",
       "Andhra Pradesh                  488\n",
       "Arunachal Pradesh                 1\n",
       "Assam                            33\n",
       "Bihar                           117\n",
       "Chandigarh                       19\n",
       "Chhattisgarh                     36\n",
       "Delhi                          1362\n",
       "Goa                               7\n",
       "Gujarat                        1042\n",
       "Haryana                         245\n",
       "Himachal Pradesh                 34\n",
       "Jammu and Kashmir               287\n",
       "Jharkhand                        27\n",
       "Karnataka                       293\n",
       "Kerala                          401\n",
       "Ladakh                           17\n",
       "Madhya Pradesh                  798\n",
       "Maharashtra                    2115\n",
       "Manipur                           2\n",
       "Meghalaya                        10\n",
       "Mizoram                           0\n",
       "Odisha                           60\n",
       "Pondicherry                       6\n",
       "Punjab                          117\n",
       "Rajasthan                      1356\n",
       "Tamil Nadu                     1379\n",
       "Telengana                       545\n",
       "Tripura                           2\n",
       "Uttar Pradesh                   754\n",
       "Uttarakhand                      39\n",
       "West Bengal                     151\n",
       "Name: Cured/Discharged/Migrated, dtype: int64"
      ]
     },
     "execution_count": 51,
     "metadata": {},
     "output_type": "execute_result"
    }
   ],
   "source": [
    "recovered=covid_cases_India_df.groupby('Name of State / UT').sum()['Cured/Discharged/Migrated']\n",
    "recovered"
   ]
  },
  {
   "cell_type": "markdown",
   "metadata": {},
   "source": [
    "# CONFIRMED VS RECOVERED CASES"
   ]
  },
  {
   "cell_type": "code",
   "execution_count": null,
   "metadata": {},
   "outputs": [],
   "source": []
  }
 ],
 "metadata": {
  "kernelspec": {
   "display_name": "Python 3",
   "language": "python",
   "name": "python3"
  },
  "language_info": {
   "codemirror_mode": {
    "name": "ipython",
    "version": 3
   },
   "file_extension": ".py",
   "mimetype": "text/x-python",
   "name": "python",
   "nbconvert_exporter": "python",
   "pygments_lexer": "ipython3",
   "version": "3.7.4"
  }
 },
 "nbformat": 4,
 "nbformat_minor": 2
}
